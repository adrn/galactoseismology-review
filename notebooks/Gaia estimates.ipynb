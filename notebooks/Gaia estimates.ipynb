{
 "cells": [
  {
   "cell_type": "code",
   "execution_count": 1,
   "metadata": {
    "collapsed": true
   },
   "outputs": [],
   "source": [
    "import astropy.units as u\n",
    "import astropy.coordinates as coord\n",
    "import matplotlib.pyplot as plt\n",
    "plt.style.use('apw-notebook')\n",
    "import numpy as np\n",
    "%matplotlib inline\n",
    "from pygaia.errors import astrometric\n",
    "from pygaia.photometry.utils import gabsFromSpt, vminiFromSpt"
   ]
  },
  {
   "cell_type": "markdown",
   "metadata": {},
   "source": [
    "Get absolute $M_G$-band magnitude and (V-I) color from the spectral type:"
   ]
  },
  {
   "cell_type": "code",
   "execution_count": 2,
   "metadata": {},
   "outputs": [],
   "source": [
    "M_G = gabsFromSpt('M0III')\n",
    "V_I = vminiFromSpt('M0III')"
   ]
  },
  {
   "cell_type": "markdown",
   "metadata": {},
   "source": [
    "Assumed *photometric* fractional distance error:"
   ]
  },
  {
   "cell_type": "code",
   "execution_count": null,
   "metadata": {
    "collapsed": true
   },
   "outputs": [],
   "source": [
    "phot_dist_err = 0.2"
   ]
  },
  {
   "cell_type": "markdown",
   "metadata": {},
   "source": [
    "Grid of distances, computed grids in parallax, apparent $G$-band magnitude:"
   ]
  },
  {
   "cell_type": "code",
   "execution_count": 24,
   "metadata": {},
   "outputs": [],
   "source": [
    "dist = coord.Distance(np.linspace(5, 35, 128)*u.kpc)\n",
    "plx = dist.to(u.microarcsecond, equivalencies=u.parallax())\n",
    "G = (M_G*u.mag + dist.distmod).value"
   ]
  },
  {
   "cell_type": "code",
   "execution_count": 30,
   "metadata": {},
   "outputs": [
    {
     "name": "stdout",
     "output_type": "stream",
     "text": [
      "0.3892450884621848 km / s 7.293847673035672 km / s\n",
      "0.9266720594906046 km / s 8.613954601543236 km / s\n",
      "1.839692595229646 km / s 12.214753942566666 km / s\n"
     ]
    }
   ],
   "source": [
    "for assumed_v in [10, 25., 50] * u.km/u.s:\n",
    "    assumed_pm = (assumed_v / dist).to(u.microarcsecond/u.yr, equivalencies=u.dimensionless_angles())\n",
    "\n",
    "    sigma_plx = astrometric.parallaxErrorSkyAvg(G, V_I) * u.microarcsecond\n",
    "    err = sigma_plx / plx\n",
    "    err[err > phot_dist_err] = phot_dist_err\n",
    "\n",
    "    # now velocity stuff\n",
    "    sigma_pm = astrometric.properMotionErrorSkyAvg(G, V_I) * u.microarcsecond/u.yr\n",
    "    sigma_pm = np.sqrt(np.sum(sigma_pm**2, axis=0))\n",
    "\n",
    "    term1 = (dist**2 * sigma_pm**2).to(u.km**2/u.s**2, equivalencies=u.dimensionless_angles())\n",
    "    term2 = ((dist*err)**2 * assumed_pm**2).to(u.km**2/u.s**2, equivalencies=u.dimensionless_angles())\n",
    "\n",
    "    vtan_err = np.sqrt(term1 + term2)\n",
    "    print(np.min(vtan_err), np.max(vtan_err))"
   ]
  },
  {
   "cell_type": "code",
   "execution_count": 31,
   "metadata": {},
   "outputs": [
    {
     "data": {
      "text/plain": [
       "[<matplotlib.lines.Line2D at 0x1174b78d0>]"
      ]
     },
     "execution_count": 31,
     "metadata": {},
     "output_type": "execute_result"
    },
    {
     "data": {
      "image/png": "[encoded data removed]",
      "text/plain": [
       "<matplotlib.figure.Figure at 0x1173030b8>"
      ]
     },
     "metadata": {
      "image/png": {
       "height": 251,
       "width": 370
      }
     },
     "output_type": "display_data"
    }
   ],
   "source": [
    "plt.plot(dist, vtan_err, marker='')"
   ]
  },
  {
   "cell_type": "code",
   "execution_count": null,
   "metadata": {
    "collapsed": true
   },
   "outputs": [],
   "source": []
  }
 ],
 "metadata": {
  "kernelspec": {
   "display_name": "Python [default]",
   "language": "python",
   "name": "python3"
  },
  "language_info": {
   "codemirror_mode": {
    "name": "ipython",
    "version": 3
   },
   "file_extension": ".py",
   "mimetype": "text/x-python",
   "name": "python",
   "nbconvert_exporter": "python",
   "pygments_lexer": "ipython3",
   "version": "3.6.1"
  }
 },
 "nbformat": 4,
 "nbformat_minor": 2
}
